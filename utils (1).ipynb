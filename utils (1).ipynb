{
 "cells": [
  {
   "cell_type": "code",
   "execution_count": 2,
   "metadata": {},
   "outputs": [],
   "source": [
    "from utils import download_images \n",
    "import pandas as pd \n",
    "df=pd.read_csv('/teamspace/studios/this_studio/train.csv')"
   ]
  },
  {
   "cell_type": "code",
   "execution_count": 3,
   "metadata": {},
   "outputs": [],
   "source": [
    "sample_sizes = {\n",
    "    'depth': 6000,\n",
    "    'width': 6000,\n",
    "    'item_weight': 6000,\n",
    "    'height': 6000,\n",
    "    'voltage': 1500,\n",
    "    'wattage': 1500,\n",
    "    'item_volume': 1500,\n",
    "    'maximum_weight_recommendation': 1500\n",
    "}\n",
    "\n",
    "def sample_from_group(group, size):\n",
    "    return group.sample(n=size, random_state=1)\n",
    "\n",
    "df = df.groupby('entity_name').apply(lambda x: sample_from_group(x, sample_sizes.get(x.name, len(x)))).reset_index(drop=True)\n",
    "df.to_csv(\"saved_images.csv\")"
   ]
  },
  {
   "cell_type": "code",
   "execution_count": 2,
   "metadata": {},
   "outputs": [
    {
     "data": {
      "text/plain": [
       "Index(['image_link', 'group_id', 'entity_name', 'entity_value'], dtype='object')"
      ]
     },
     "execution_count": 2,
     "metadata": {},
     "output_type": "execute_result"
    }
   ],
   "source": [
    "df.columns"
   ]
  },
  {
   "cell_type": "code",
   "execution_count": 4,
   "metadata": {},
   "outputs": [
    {
     "name": "stderr",
     "output_type": "stream",
     "text": [
      "100%|██████████| 30000/30000 [02:03<00:00, 242.55it/s]\n"
     ]
    }
   ],
   "source": [
    "download_folder='/teamspace/studios/this_studio/images'\n",
    "download_images(df['image_link'].tolist(), download_folder)\n"
   ]
  },
  {
   "cell_type": "code",
   "execution_count": null,
   "metadata": {},
   "outputs": [],
   "source": []
  }
 ],
 "metadata": {
  "language_info": {
   "name": "python"
  }
 },
 "nbformat": 4,
 "nbformat_minor": 2
}
